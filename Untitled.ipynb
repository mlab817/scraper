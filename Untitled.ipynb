{
 "cells": [
  {
   "cell_type": "code",
   "execution_count": 1,
   "metadata": {},
   "outputs": [],
   "source": [
    "from bs4 import BeautifulSoup\n",
    "import pandas as pd"
   ]
  },
  {
   "cell_type": "code",
   "execution_count": 2,
   "metadata": {},
   "outputs": [],
   "source": [
    "src = open('all projects.html','r',encoding='utf8')"
   ]
  },
  {
   "cell_type": "code",
   "execution_count": 3,
   "metadata": {},
   "outputs": [],
   "source": [
    "soup = BeautifulSoup(src,'html.parser')"
   ]
  },
  {
   "cell_type": "code",
   "execution_count": 11,
   "metadata": {},
   "outputs": [
    {
     "name": "stdout",
     "output_type": "stream",
     "text": [
      "http://pipol.neda.gov.ph/markascomplete/9503\n",
      "http://pipol.neda.gov.ph/markasdropped/9503\n",
      "http://pipol.neda.gov.ph/markascomplete/9432\n",
      "http://pipol.neda.gov.ph/markasdropped/9432\n",
      "http://pipol.neda.gov.ph/markascomplete/9437\n",
      "http://pipol.neda.gov.ph/markasdropped/9437\n",
      "http://pipol.neda.gov.ph/markascomplete/9490\n",
      "http://pipol.neda.gov.ph/markasdropped/9490\n",
      "http://pipol.neda.gov.ph/markascomplete/9755\n",
      "http://pipol.neda.gov.ph/markasdropped/9755\n",
      "http://pipol.neda.gov.ph/markascomplete/672\n",
      "http://pipol.neda.gov.ph/markasdropped/672\n",
      "http://pipol.neda.gov.ph/markascomplete/671\n",
      "http://pipol.neda.gov.ph/markasdropped/671\n",
      "http://pipol.neda.gov.ph/markascomplete/9453\n",
      "http://pipol.neda.gov.ph/markasdropped/9453\n",
      "http://pipol.neda.gov.ph/markascomplete/9455\n",
      "http://pipol.neda.gov.ph/markasdropped/9455\n",
      "http://pipol.neda.gov.ph/markascomplete/33\n",
      "http://pipol.neda.gov.ph/markasdropped/33\n",
      "http://pipol.neda.gov.ph/markascomplete/26694\n",
      "http://pipol.neda.gov.ph/markasdropped/26694\n",
      "http://pipol.neda.gov.ph/markascomplete/31933\n",
      "http://pipol.neda.gov.ph/markasdropped/31933\n",
      "http://pipol.neda.gov.ph/markascomplete/9835\n",
      "http://pipol.neda.gov.ph/markasdropped/9835\n",
      "http://pipol.neda.gov.ph/markascomplete/9084\n",
      "http://pipol.neda.gov.ph/markasdropped/9084\n",
      "http://pipol.neda.gov.ph/markascomplete/9726\n",
      "http://pipol.neda.gov.ph/markasdropped/9726\n",
      "http://pipol.neda.gov.ph/markascomplete/32223\n",
      "http://pipol.neda.gov.ph/markasdropped/32223\n",
      "http://pipol.neda.gov.ph/markascomplete/32169\n",
      "http://pipol.neda.gov.ph/markasdropped/32169\n",
      "http://pipol.neda.gov.ph/markascomplete/32143\n",
      "http://pipol.neda.gov.ph/markasdropped/32143\n",
      "http://pipol.neda.gov.ph/markascomplete/9783\n",
      "http://pipol.neda.gov.ph/markasdropped/9783\n",
      "http://pipol.neda.gov.ph/markascomplete/9465\n",
      "http://pipol.neda.gov.ph/markasdropped/9465\n"
     ]
    }
   ],
   "source": [
    "soup.findAll('table',{'class':'dataTable'})\n",
    "all_as = soup.find_all('form')\n",
    "\n",
    "for a in all_as:\n",
    "    print(a.get('action'))"
   ]
  },
  {
   "cell_type": "code",
   "execution_count": null,
   "metadata": {},
   "outputs": [],
   "source": []
  }
 ],
 "metadata": {
  "kernelspec": {
   "display_name": "Python 3",
   "language": "python",
   "name": "python3"
  },
  "language_info": {
   "codemirror_mode": {
    "name": "ipython",
    "version": 3
   },
   "file_extension": ".py",
   "mimetype": "text/x-python",
   "name": "python",
   "nbconvert_exporter": "python",
   "pygments_lexer": "ipython3",
   "version": "3.7.6"
  }
 },
 "nbformat": 4,
 "nbformat_minor": 4
}
