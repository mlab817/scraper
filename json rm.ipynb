{
 "cells": [
  {
   "cell_type": "code",
   "execution_count": 13,
   "metadata": {},
   "outputs": [],
   "source": [
    "import pandas as pd\n",
    "import pprint"
   ]
  },
  {
   "cell_type": "code",
   "execution_count": 9,
   "metadata": {},
   "outputs": [],
   "source": [
    "csv = pd.read_csv('outputs/results matrix.csv')"
   ]
  },
  {
   "cell_type": "code",
   "execution_count": 10,
   "metadata": {},
   "outputs": [
    {
     "data": {
      "text/plain": [
       "id            int64\n",
       "name         object\n",
       "level         int64\n",
       "chapter       int64\n",
       "parent_id     int64\n",
       "dtype: object"
      ]
     },
     "execution_count": 10,
     "metadata": {},
     "output_type": "execute_result"
    }
   ],
   "source": [
    "df = pd.DataFrame(csv)\n",
    "df.dtypes"
   ]
  },
  {
   "cell_type": "code",
   "execution_count": 18,
   "metadata": {},
   "outputs": [],
   "source": [
    "j = (df.groupby(['id','name','chapter','level','parent_id'], as_index=False)\n",
    "             .apply(lambda x: x[['parent_id']].to_dict('r'))\n",
    "             .reset_index()\n",
    "             .rename(columns={0:'value',1:'name'})\n",
    "             .to_json(orient='records'))"
   ]
  },
  {
   "cell_type": "code",
   "execution_count": 16,
   "metadata": {},
   "outputs": [
    {
     "name": "stdout",
     "output_type": "stream",
     "text": [
      "'[{\"level\":1,\"parent_id\":0,\"value\":[{\"parent_id\":0},{\"parent_id\":0},{\"parent_id\":0},{\"parent_id\":0},{\"parent_id\":0},{\"parent_id\":0},{\"parent_id\":0},{\"parent_id\":0},{\"parent_id\":0},{\"parent_id\":0},{\"parent_id\":0},{\"parent_id\":0},{\"parent_id\":0},{\"parent_id\":0},{\"parent_id\":0},{\"parent_id\":0},{\"parent_id\":0},{\"parent_id\":0},{\"parent_id\":0},{\"parent_id\":0},{\"parent_id\":0},{\"parent_id\":0},{\"parent_id\":0},{\"parent_id\":0}]},{\"level\":2,\"parent_id\":1,\"value\":[{\"parent_id\":1},{\"parent_id\":1},{\"parent_id\":1},{\"parent_id\":1},{\"parent_id\":1}]},{\"level\":2,\"parent_id\":2,\"value\":[{\"parent_id\":2},{\"parent_id\":2}]},{\"level\":2,\"parent_id\":3,\"value\":[{\"parent_id\":3},{\"parent_id\":3},{\"parent_id\":3},{\"parent_id\":3}]},{\"level\":2,\"parent_id\":4,\"value\":[{\"parent_id\":4},{\"parent_id\":4}]},{\"level\":2,\"parent_id\":5,\"value\":[{\"parent_id\":5},{\"parent_id\":5},{\"parent_id\":5},{\"parent_id\":5}]},{\"level\":2,\"parent_id\":6,\"value\":[{\"parent_id\":6},{\"parent_id\":6},{\"parent_id\":6},{\"parent_id\":6}]},{\"level\":2,\"parent_id\":7,\"value\":[{\"parent_id\":7},{\"parent_id\":7},{\"parent_id\":7}]},{\"level\":2,\"parent_id\":8,\"value\":[{\"parent_id\":8},{\"parent_id\":8},{\"parent_id\":8}]},{\"level\":2,\"parent_id\":9,\"value\":[{\"parent_id\":9}]},{\"level\":2,\"parent_id\":10,\"value\":[{\"parent_id\":10}]},{\"level\":2,\"parent_id\":13,\"value\":[{\"parent_id\":13},{\"parent_id\":13}]},{\"level\":2,\"parent_id\":14,\"value\":[{\"parent_id\":14},{\"parent_id\":14}]},{\"level\":2,\"parent_id\":15,\"value\":[{\"parent_id\":15},{\"parent_id\":15},{\"parent_id\":15}]},{\"level\":2,\"parent_id\":17,\"value\":[{\"parent_id\":17},{\"parent_id\":17},{\"parent_id\":17}]},{\"level\":2,\"parent_id\":18,\"value\":[{\"parent_id\":18},{\"parent_id\":18}]},{\"level\":2,\"parent_id\":19,\"value\":[{\"parent_id\":19},{\"parent_id\":19},{\"parent_id\":19},{\"parent_id\":19}]},{\"level\":2,\"parent_id\":20,\"value\":[{\"parent_id\":20},{\"parent_id\":20}]},{\"level\":2,\"parent_id\":21,\"value\":[{\"parent_id\":21}]},{\"level\":2,\"parent_id\":22,\"value\":[{\"parent_id\":22}]},{\"level\":2,\"parent_id\":23,\"value\":[{\"parent_id\":23}]},{\"level\":2,\"parent_id\":24,\"value\":[{\"parent_id\":24},{\"parent_id\":24},{\"parent_id\":24}]},{\"level\":2,\"parent_id\":136,\"value\":[{\"parent_id\":136}]},{\"level\":3,\"parent_id\":85,\"value\":[{\"parent_id\":85},{\"parent_id\":85},{\"parent_id\":85}]},{\"level\":3,\"parent_id\":86,\"value\":[{\"parent_id\":86},{\"parent_id\":86}]},{\"level\":3,\"parent_id\":87,\"value\":[{\"parent_id\":87},{\"parent_id\":87},{\"parent_id\":87}]},{\"level\":3,\"parent_id\":89,\"value\":[{\"parent_id\":89},{\"parent_id\":89},{\"parent_id\":89},{\"parent_id\":89}]},{\"level\":3,\"parent_id\":90,\"value\":[{\"parent_id\":90},{\"parent_id\":90},{\"parent_id\":90},{\"parent_id\":90},{\"parent_id\":90},{\"parent_id\":90}]},{\"level\":3,\"parent_id\":91,\"value\":[{\"parent_id\":91},{\"parent_id\":91},{\"parent_id\":91}]},{\"level\":3,\"parent_id\":92,\"value\":[{\"parent_id\":92},{\"parent_id\":92},{\"parent_id\":92},{\"parent_id\":92},{\"parent_id\":92},{\"parent_id\":92}]},{\"level\":3,\"parent_id\":93,\"value\":[{\"parent_id\":93}]},{\"level\":3,\"parent_id\":95,\"value\":[{\"parent_id\":95},{\"parent_id\":95},{\"parent_id\":95}]},{\"level\":3,\"parent_id\":96,\"value\":[{\"parent_id\":96},{\"parent_id\":96}]},{\"level\":3,\"parent_id\":97,\"value\":[{\"parent_id\":97},{\"parent_id\":97},{\"parent_id\":97},{\"parent_id\":97}]},{\"level\":3,\"parent_id\":98,\"value\":[{\"parent_id\":98},{\"parent_id\":98},{\"parent_id\":98}]},{\"level\":3,\"parent_id\":99,\"value\":[{\"parent_id\":99},{\"parent_id\":99},{\"parent_id\":99}]},{\"level\":3,\"parent_id\":101,\"value\":[{\"parent_id\":101},{\"parent_id\":101}]},{\"level\":3,\"parent_id\":102,\"value\":[{\"parent_id\":102},{\"parent_id\":102},{\"parent_id\":102}]},{\"level\":3,\"parent_id\":104,\"value\":[{\"parent_id\":104},{\"parent_id\":104},{\"parent_id\":104}]},{\"level\":3,\"parent_id\":105,\"value\":[{\"parent_id\":105},{\"parent_id\":105},{\"parent_id\":105}]},{\"level\":3,\"parent_id\":106,\"value\":[{\"parent_id\":106},{\"parent_id\":106}]},{\"level\":3,\"parent_id\":107,\"value\":[{\"parent_id\":107},{\"parent_id\":107},{\"parent_id\":107}]},{\"level\":3,\"parent_id\":108,\"value\":[{\"parent_id\":108},{\"parent_id\":108},{\"parent_id\":108},{\"parent_id\":108},{\"parent_id\":108},{\"parent_id\":108},{\"parent_id\":108},{\"parent_id\":108},{\"parent_id\":108},{\"parent_id\":108},{\"parent_id\":108},{\"parent_id\":108},{\"parent_id\":108}]},{\"level\":3,\"parent_id\":109,\"value\":[{\"parent_id\":109},{\"parent_id\":109},{\"parent_id\":109},{\"parent_id\":109}]},{\"level\":3,\"parent_id\":110,\"value\":[{\"parent_id\":110},{\"parent_id\":110},{\"parent_id\":110},{\"parent_id\":110}]},{\"level\":3,\"parent_id\":111,\"value\":[{\"parent_id\":111},{\"parent_id\":111},{\"parent_id\":111}]},{\"level\":3,\"parent_id\":112,\"value\":[{\"parent_id\":112},{\"parent_id\":112},{\"parent_id\":112},{\"parent_id\":112},{\"parent_id\":112},{\"parent_id\":112},{\"parent_id\":112},{\"parent_id\":112},{\"parent_id\":112}]},{\"level\":3,\"parent_id\":113,\"value\":[{\"parent_id\":113},{\"parent_id\":113},{\"parent_id\":113},{\"parent_id\":113}]},{\"level\":3,\"parent_id\":114,\"value\":[{\"parent_id\":114},{\"parent_id\":114},{\"parent_id\":114},{\"parent_id\":114},{\"parent_id\":114},{\"parent_id\":114},{\"parent_id\":114},{\"parent_id\":114},{\"parent_id\":114},{\"parent_id\":114},{\"parent_id\":114},{\"parent_id\":114},{\"parent_id\":114},{\"parent_id\":114},{\"parent_id\":114},{\"parent_id\":114},{\"parent_id\":114},{\"parent_id\":114}]},{\"level\":3,\"parent_id\":115,\"value\":[{\"parent_id\":115},{\"parent_id\":115},{\"parent_id\":115},{\"parent_id\":115},{\"parent_id\":115},{\"parent_id\":115},{\"parent_id\":115},{\"parent_id\":115},{\"parent_id\":115},{\"parent_id\":115},{\"parent_id\":115}]},{\"level\":3,\"parent_id\":116,\"value\":[{\"parent_id\":116},{\"parent_id\":116},{\"parent_id\":116},{\"parent_id\":116},{\"parent_id\":116},{\"parent_id\":116}]},{\"level\":3,\"parent_id\":119,\"value\":[{\"parent_id\":119},{\"parent_id\":119},{\"parent_id\":119},{\"parent_id\":119},{\"parent_id\":119}]},{\"level\":3,\"parent_id\":126,\"value\":[{\"parent_id\":126},{\"parent_id\":126},{\"parent_id\":126},{\"parent_id\":126},{\"parent_id\":126},{\"parent_id\":126},{\"parent_id\":126},{\"parent_id\":126},{\"parent_id\":126},{\"parent_id\":126},{\"parent_id\":126}]},{\"level\":3,\"parent_id\":127,\"value\":[{\"parent_id\":127},{\"parent_id\":127},{\"parent_id\":127},{\"parent_id\":127},{\"parent_id\":127},{\"parent_id\":127},{\"parent_id\":127}]},{\"level\":3,\"parent_id\":128,\"value\":[{\"parent_id\":128},{\"parent_id\":128},{\"parent_id\":128}]},{\"level\":3,\"parent_id\":131,\"value\":[{\"parent_id\":131},{\"parent_id\":131},{\"parent_id\":131},{\"parent_id\":131},{\"parent_id\":131},{\"parent_id\":131},{\"parent_id\":131},{\"parent_id\":131},{\"parent_id\":131},{\"parent_id\":131},{\"parent_id\":131},{\"parent_id\":131},{\"parent_id\":131},{\"parent_id\":131},{\"parent_id\":131},{\"parent_id\":131},{\"parent_id\":131},{\"parent_id\":131},{\"parent_id\":131}]},{\"level\":3,\"parent_id\":132,\"value\":[{\"parent_id\":132},{\"parent_id\":132},{\"parent_id\":132},{\"parent_id\":132},{\"parent_id\":132},{\"parent_id\":132},{\"parent_id\":132},{\"parent_id\":132}]},{\"level\":3,\"parent_id\":133,\"value\":[{\"parent_id\":133},{\"parent_id\":133},{\"parent_id\":133},{\"parent_id\":133}]},{\"level\":3,\"parent_id\":134,\"value\":[{\"parent_id\":134},{\"parent_id\":134}]},{\"level\":3,\"parent_id\":135,\"value\":[{\"parent_id\":135},{\"parent_id\":135},{\"parent_id\":135},{\"parent_id\":135},{\"parent_id\":135},{\"parent_id\":135}]},{\"level\":3,\"parent_id\":136,\"value\":[{\"parent_id\":136},{\"parent_id\":136},{\"parent_id\":136},{\"parent_id\":136},{\"parent_id\":136}]},{\"level\":4,\"parent_id\":207,\"value\":[{\"parent_id\":207},{\"parent_id\":207},{\"parent_id\":207},{\"parent_id\":207},{\"parent_id\":207},{\"parent_id\":207},{\"parent_id\":207},{\"parent_id\":207},{\"parent_id\":207},{\"parent_id\":207},{\"parent_id\":207}]},{\"level\":4,\"parent_id\":208,\"value\":[{\"parent_id\":208},{\"parent_id\":208},{\"parent_id\":208},{\"parent_id\":208},{\"parent_id\":208},{\"parent_id\":208},{\"parent_id\":208},{\"parent_id\":208},{\"parent_id\":208}]},{\"level\":4,\"parent_id\":209,\"value\":[{\"parent_id\":209},{\"parent_id\":209},{\"parent_id\":209},{\"parent_id\":209}]}]'\n"
     ]
    }
   ],
   "source": [
    "pprint.pprint(j)"
   ]
  },
  {
   "cell_type": "code",
   "execution_count": null,
   "metadata": {},
   "outputs": [],
   "source": []
  }
 ],
 "metadata": {
  "kernelspec": {
   "display_name": "Python 3",
   "language": "python",
   "name": "python3"
  },
  "language_info": {
   "codemirror_mode": {
    "name": "ipython",
    "version": 3
   },
   "file_extension": ".py",
   "mimetype": "text/x-python",
   "name": "python",
   "nbconvert_exporter": "python",
   "pygments_lexer": "ipython3",
   "version": "3.7.6"
  }
 },
 "nbformat": 4,
 "nbformat_minor": 4
}
